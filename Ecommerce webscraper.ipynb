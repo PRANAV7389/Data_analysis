{
 "cells": [
  {
   "cell_type": "code",
   "execution_count": 1,
   "id": "0cec44f4",
   "metadata": {},
   "outputs": [
    {
     "name": "stdout",
     "output_type": "stream",
     "text": [
      "Collecting autoscraper\n",
      "  Downloading autoscraper-1.1.14-py3-none-any.whl (10 kB)\n",
      "Requirement already satisfied: lxml in d:\\apps-files\\lib\\site-packages (from autoscraper) (4.9.1)\n",
      "Collecting bs4\n",
      "  Downloading bs4-0.0.1.tar.gz (1.1 kB)\n",
      "  Preparing metadata (setup.py): started\n",
      "  Preparing metadata (setup.py): finished with status 'done'\n",
      "Requirement already satisfied: requests in d:\\apps-files\\lib\\site-packages (from autoscraper) (2.28.1)\n",
      "Requirement already satisfied: beautifulsoup4 in d:\\apps-files\\lib\\site-packages (from bs4->autoscraper) (4.11.1)\n",
      "Requirement already satisfied: charset-normalizer<3,>=2 in d:\\apps-files\\lib\\site-packages (from requests->autoscraper) (2.0.4)\n",
      "Requirement already satisfied: certifi>=2017.4.17 in d:\\apps-files\\lib\\site-packages (from requests->autoscraper) (2022.9.14)\n",
      "Requirement already satisfied: urllib3<1.27,>=1.21.1 in d:\\apps-files\\lib\\site-packages (from requests->autoscraper) (1.26.11)\n",
      "Requirement already satisfied: idna<4,>=2.5 in d:\\apps-files\\lib\\site-packages (from requests->autoscraper) (3.3)\n",
      "Requirement already satisfied: soupsieve>1.2 in d:\\apps-files\\lib\\site-packages (from beautifulsoup4->bs4->autoscraper) (2.3.1)\n",
      "Building wheels for collected packages: bs4\n",
      "  Building wheel for bs4 (setup.py): started\n",
      "  Building wheel for bs4 (setup.py): finished with status 'done'\n",
      "  Created wheel for bs4: filename=bs4-0.0.1-py3-none-any.whl size=1257 sha256=d3bd48bf88604734b8713a173f33293920c270ea53463d5e8abaf8c526b3a269\n",
      "  Stored in directory: c:\\users\\prana\\appdata\\local\\pip\\cache\\wheels\\73\\2b\\cb\\099980278a0c9a3e57ff1a89875ec07bfa0b6fcbebb9a8cad3\n",
      "Successfully built bs4\n",
      "Installing collected packages: bs4, autoscraper\n",
      "Successfully installed autoscraper-1.1.14 bs4-0.0.1\n",
      "Note: you may need to restart the kernel to use updated packages.\n"
     ]
    }
   ],
   "source": [
    "pip install autoscraper"
   ]
  },
  {
   "cell_type": "code",
   "execution_count": 2,
   "id": "0ccc2c09",
   "metadata": {},
   "outputs": [],
   "source": [
    "from autoscraper import AutoScraper"
   ]
  },
  {
   "cell_type": "code",
   "execution_count": 17,
   "id": "317bee93",
   "metadata": {},
   "outputs": [],
   "source": [
    "amazon_url = \"https://www.amazon.in/s?k=iphones\"\n",
    "wanted_list= [\"₹61,999\",\"Apple iPhone 13 (128GB) - (Product) RED\",\"(4,917)\"]"
   ]
  },
  {
   "cell_type": "code",
   "execution_count": 18,
   "id": "d790a591",
   "metadata": {},
   "outputs": [
    {
     "name": "stdout",
     "output_type": "stream",
     "text": [
      "['₹57,999', '₹64,900', '₹61,999', '₹79,900', '₹53,900', '₹59,900', '₹60,990', '₹69,900', '₹73,990', '₹92,999', '₹99,900', '₹55,990', '₹83,990', '₹89,900', '₹54,499', '₹65,900', '₹74,990', '₹84,060', 'Apple iPhone 13 (128GB) - (Product) RED', 'Apple iPhone 12 (128GB) - Blue']\n"
     ]
    }
   ],
   "source": [
    "scraper = AutoScraper()\n",
    "result = scraper.build(amazon_url,wanted_list)\n",
    "print(result)"
   ]
  },
  {
   "cell_type": "code",
   "execution_count": 19,
   "id": "2d5b5a5a",
   "metadata": {},
   "outputs": [
    {
     "data": {
      "text/plain": [
       "{'rule_nhgn': ['₹57,999',\n",
       "  '₹64,900',\n",
       "  '₹61,999',\n",
       "  '₹79,900',\n",
       "  '₹53,900',\n",
       "  '₹59,900',\n",
       "  '₹60,990',\n",
       "  '₹64,900',\n",
       "  '₹61,999',\n",
       "  '₹69,900',\n",
       "  '₹60,990',\n",
       "  '₹64,900',\n",
       "  '₹73,990',\n",
       "  '₹79,900',\n",
       "  '₹73,990',\n",
       "  '₹79,900',\n",
       "  '₹92,999',\n",
       "  '₹99,900',\n",
       "  '₹55,990',\n",
       "  '₹59,900',\n",
       "  '₹83,990',\n",
       "  '₹89,900',\n",
       "  '₹54,499',\n",
       "  '₹59,900',\n",
       "  '₹53,900',\n",
       "  '₹65,900',\n",
       "  '₹11,999',\n",
       "  '₹24,999',\n",
       "  '₹74,990',\n",
       "  '₹79,900',\n",
       "  '₹84,060',\n",
       "  '₹89,900'],\n",
       " 'rule_9a2b': ['₹57,999',\n",
       "  '₹64,900',\n",
       "  '₹61,999',\n",
       "  '₹79,900',\n",
       "  '₹53,900',\n",
       "  '₹59,900',\n",
       "  '₹60,990',\n",
       "  '₹64,900',\n",
       "  '₹61,999',\n",
       "  '₹69,900',\n",
       "  '₹60,990',\n",
       "  '₹64,900',\n",
       "  '₹73,990',\n",
       "  '₹79,900',\n",
       "  '₹73,990',\n",
       "  '₹79,900',\n",
       "  '₹92,999',\n",
       "  '₹99,900',\n",
       "  '₹55,990',\n",
       "  '₹59,900',\n",
       "  '₹83,990',\n",
       "  '₹89,900',\n",
       "  '₹54,499',\n",
       "  '₹59,900',\n",
       "  '₹53,900',\n",
       "  '₹65,900',\n",
       "  '₹11,999',\n",
       "  '₹24,999',\n",
       "  '₹74,990',\n",
       "  '₹79,900',\n",
       "  '₹84,060',\n",
       "  '₹89,900'],\n",
       " 'rule_jkve': ['₹57,999',\n",
       "  '₹64,900',\n",
       "  '₹61,999',\n",
       "  '₹79,900',\n",
       "  '₹53,900',\n",
       "  '₹59,900',\n",
       "  '₹60,990',\n",
       "  '₹64,900',\n",
       "  '₹61,999',\n",
       "  '₹69,900',\n",
       "  '₹60,990',\n",
       "  '₹64,900',\n",
       "  '₹73,990',\n",
       "  '₹79,900',\n",
       "  '₹73,990',\n",
       "  '₹79,900',\n",
       "  '₹92,999',\n",
       "  '₹99,900',\n",
       "  '₹55,990',\n",
       "  '₹59,900',\n",
       "  '₹83,990',\n",
       "  '₹89,900',\n",
       "  '₹54,499',\n",
       "  '₹59,900',\n",
       "  '₹53,900',\n",
       "  '₹65,900',\n",
       "  '₹11,999',\n",
       "  '₹24,999',\n",
       "  '₹74,990',\n",
       "  '₹79,900',\n",
       "  '₹84,060',\n",
       "  '₹89,900'],\n",
       " 'rule_nwrq': ['₹57,999',\n",
       "  '₹64,900',\n",
       "  '₹61,999',\n",
       "  '₹79,900',\n",
       "  '₹53,900',\n",
       "  '₹59,900',\n",
       "  '₹60,990',\n",
       "  '₹64,900',\n",
       "  '₹61,999',\n",
       "  '₹69,900',\n",
       "  '₹60,990',\n",
       "  '₹64,900',\n",
       "  '₹73,990',\n",
       "  '₹79,900',\n",
       "  '₹73,990',\n",
       "  '₹79,900',\n",
       "  '₹92,999',\n",
       "  '₹99,900',\n",
       "  '₹55,990',\n",
       "  '₹59,900',\n",
       "  '₹83,990',\n",
       "  '₹89,900',\n",
       "  '₹54,499',\n",
       "  '₹59,900',\n",
       "  '₹53,900',\n",
       "  '₹65,900',\n",
       "  '₹11,999',\n",
       "  '₹24,999',\n",
       "  '₹74,990',\n",
       "  '₹79,900',\n",
       "  '₹84,060',\n",
       "  '₹89,900'],\n",
       " 'rule_xt98': ['₹61,999', '₹69,900', '₹57,999', '₹64,900'],\n",
       " 'rule_tp6p': ['₹61,999', '₹69,900', '₹57,999', '₹64,900'],\n",
       " 'rule_623i': ['Apple iPhone 13 (128GB) - (Product) RED',\n",
       "  'Apple iPhone 12 (128GB) - Blue']}"
      ]
     },
     "execution_count": 19,
     "metadata": {},
     "output_type": "execute_result"
    }
   ],
   "source": [
    "scraper.get_result_similar(amazon_url,grouped=True)"
   ]
  },
  {
   "cell_type": "code",
   "execution_count": 23,
   "id": "273465cc",
   "metadata": {},
   "outputs": [],
   "source": [
    "scraper.set_rule_aliases({'rule_623i':'Title','rule_nhgn':'Price'})\n",
    "scraper.keep_rules({'rule_623i','rule_nhgn'})\n",
    "scraper.save('amazon-search')"
   ]
  },
  {
   "cell_type": "code",
   "execution_count": 24,
   "id": "00bba0dc",
   "metadata": {},
   "outputs": [],
   "source": [
    "results=scraper.get_result_similar('https://www.amazon.in/s?k=iphones',group_by_alias='https://www.amazon.in/s?k=mi+phones+under+20000')"
   ]
  },
  {
   "cell_type": "code",
   "execution_count": 27,
   "id": "2c0ef609",
   "metadata": {},
   "outputs": [
    {
     "data": {
      "text/plain": [
       "['₹57,999',\n",
       " '₹64,900',\n",
       " '₹61,999',\n",
       " '₹79,900',\n",
       " '₹53,900',\n",
       " '₹59,900',\n",
       " '₹60,990',\n",
       " '₹64,900',\n",
       " '₹61,999',\n",
       " '₹69,900',\n",
       " '₹60,990',\n",
       " '₹64,900',\n",
       " '₹73,990',\n",
       " '₹79,900',\n",
       " '₹73,990',\n",
       " '₹79,900',\n",
       " '₹92,999',\n",
       " '₹99,900',\n",
       " '₹55,990',\n",
       " '₹59,900',\n",
       " '₹83,990',\n",
       " '₹89,900',\n",
       " '₹54,499',\n",
       " '₹59,900',\n",
       " '₹53,900',\n",
       " '₹65,900',\n",
       " '₹11,999',\n",
       " '₹24,999',\n",
       " '₹74,990',\n",
       " '₹79,900',\n",
       " '₹84,060',\n",
       " '₹89,900']"
      ]
     },
     "execution_count": 27,
     "metadata": {},
     "output_type": "execute_result"
    }
   ],
   "source": [
    "results['Price']"
   ]
  },
  {
   "cell_type": "code",
   "execution_count": null,
   "id": "f16ccc38",
   "metadata": {},
   "outputs": [],
   "source": []
  }
 ],
 "metadata": {
  "kernelspec": {
   "display_name": "Python 3 (ipykernel)",
   "language": "python",
   "name": "python3"
  },
  "language_info": {
   "codemirror_mode": {
    "name": "ipython",
    "version": 3
   },
   "file_extension": ".py",
   "mimetype": "text/x-python",
   "name": "python",
   "nbconvert_exporter": "python",
   "pygments_lexer": "ipython3",
   "version": "3.9.13"
  }
 },
 "nbformat": 4,
 "nbformat_minor": 5
}
